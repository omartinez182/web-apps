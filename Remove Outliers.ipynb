{
 "cells": [
  {
   "cell_type": "markdown",
   "metadata": {},
   "source": [
    "# Data Cleaning on Real Estate Data - Removing Outliers"
   ]
  },
  {
   "cell_type": "markdown",
   "metadata": {},
   "source": [
    "In this notebook we'll create a function to identify and remove outliers from a dataset based on the value of a column. To identify the outliers, we'll use the interquartile range rule.\n",
    "\n",
    "Let's start by loading the libraries we'll be using and our dataset."
   ]
  },
  {
   "cell_type": "code",
   "execution_count": 6,
   "metadata": {},
   "outputs": [],
   "source": [
    "#Load libraries\n",
    "import pandas as pd\n",
    "import numpy as np"
   ]
  },
  {
   "cell_type": "code",
   "execution_count": 3,
   "metadata": {},
   "outputs": [
    {
     "data": {
      "text/html": [
       "<div>\n",
       "<style scoped>\n",
       "    .dataframe tbody tr th:only-of-type {\n",
       "        vertical-align: middle;\n",
       "    }\n",
       "\n",
       "    .dataframe tbody tr th {\n",
       "        vertical-align: top;\n",
       "    }\n",
       "\n",
       "    .dataframe thead th {\n",
       "        text-align: right;\n",
       "    }\n",
       "</style>\n",
       "<table border=\"1\" class=\"dataframe\">\n",
       "  <thead>\n",
       "    <tr style=\"text-align: right;\">\n",
       "      <th></th>\n",
       "      <th>revision</th>\n",
       "      <th>price_usd</th>\n",
       "      <th>zona</th>\n",
       "      <th>created_at_first</th>\n",
       "      <th>created_at</th>\n",
       "      <th>days_old</th>\n",
       "      <th>number_of_bedrooms</th>\n",
       "      <th>number_of_bathrooms</th>\n",
       "      <th>m2</th>\n",
       "      <th>latitude</th>\n",
       "      <th>longitude</th>\n",
       "    </tr>\n",
       "  </thead>\n",
       "  <tbody>\n",
       "    <tr>\n",
       "      <th>0</th>\n",
       "      <td>7</td>\n",
       "      <td>350000</td>\n",
       "      <td>Zona 10</td>\n",
       "      <td>5/28/20</td>\n",
       "      <td>5/28/20</td>\n",
       "      <td>0.0</td>\n",
       "      <td>2.0</td>\n",
       "      <td>2.0</td>\n",
       "      <td>158.00</td>\n",
       "      <td>14.595</td>\n",
       "      <td>-90.504</td>\n",
       "    </tr>\n",
       "    <tr>\n",
       "      <th>1</th>\n",
       "      <td>4</td>\n",
       "      <td>103896</td>\n",
       "      <td>Zona 18</td>\n",
       "      <td>5/28/20</td>\n",
       "      <td>5/28/20</td>\n",
       "      <td>0.0</td>\n",
       "      <td>5.0</td>\n",
       "      <td>3.0</td>\n",
       "      <td>150.00</td>\n",
       "      <td>14.665</td>\n",
       "      <td>-90.471</td>\n",
       "    </tr>\n",
       "    <tr>\n",
       "      <th>2</th>\n",
       "      <td>6</td>\n",
       "      <td>84299</td>\n",
       "      <td>Zona 7</td>\n",
       "      <td>5/28/20</td>\n",
       "      <td>5/28/20</td>\n",
       "      <td>0.0</td>\n",
       "      <td>3.0</td>\n",
       "      <td>2.0</td>\n",
       "      <td>85.00</td>\n",
       "      <td>14.639</td>\n",
       "      <td>-90.560</td>\n",
       "    </tr>\n",
       "    <tr>\n",
       "      <th>3</th>\n",
       "      <td>9</td>\n",
       "      <td>90273</td>\n",
       "      <td>Zona 1</td>\n",
       "      <td>5/28/20</td>\n",
       "      <td>5/28/20</td>\n",
       "      <td>0.0</td>\n",
       "      <td>2.0</td>\n",
       "      <td>2.0</td>\n",
       "      <td>69.00</td>\n",
       "      <td>14.646</td>\n",
       "      <td>-90.503</td>\n",
       "    </tr>\n",
       "    <tr>\n",
       "      <th>4</th>\n",
       "      <td>13</td>\n",
       "      <td>1375000</td>\n",
       "      <td>Zona 15</td>\n",
       "      <td>2/13/20</td>\n",
       "      <td>5/28/20</td>\n",
       "      <td>105.0</td>\n",
       "      <td>5.0</td>\n",
       "      <td>7.0</td>\n",
       "      <td>664.00</td>\n",
       "      <td>14.612</td>\n",
       "      <td>-90.493</td>\n",
       "    </tr>\n",
       "  </tbody>\n",
       "</table>\n",
       "</div>"
      ],
      "text/plain": [
       "   revision  price_usd     zona created_at_first created_at  days_old  \\\n",
       "0         7     350000  Zona 10          5/28/20    5/28/20       0.0   \n",
       "1         4     103896  Zona 18          5/28/20    5/28/20       0.0   \n",
       "2         6      84299   Zona 7          5/28/20    5/28/20       0.0   \n",
       "3         9      90273   Zona 1          5/28/20    5/28/20       0.0   \n",
       "4        13    1375000  Zona 15          2/13/20    5/28/20     105.0   \n",
       "\n",
       "   number_of_bedrooms  number_of_bathrooms      m2  latitude  longitude  \n",
       "0                 2.0                  2.0  158.00    14.595    -90.504  \n",
       "1                 5.0                  3.0  150.00    14.665    -90.471  \n",
       "2                 3.0                  2.0   85.00    14.639    -90.560  \n",
       "3                 2.0                  2.0   69.00    14.646    -90.503  \n",
       "4                 5.0                  7.0  664.00    14.612    -90.493  "
      ]
     },
     "execution_count": 3,
     "metadata": {},
     "output_type": "execute_result"
    }
   ],
   "source": [
    "#Load dataset\n",
    "url = 'https://raw.githubusercontent.com/omartinez182/web-apps/master/Scrape_2020.csv'\n",
    "df = pd.read_csv(url, error_bad_lines=False)\n",
    "df.head()"
   ]
  },
  {
   "cell_type": "markdown",
   "metadata": {},
   "source": [
    "Each observation in the dataset represents a property, and the dataset contains the following attributes for each property:"
   ]
  },
  {
   "cell_type": "code",
   "execution_count": 7,
   "metadata": {},
   "outputs": [
    {
     "data": {
      "text/plain": [
       "Index(['Unnamed: 0', 'revision', 'price_usd', 'zona', 'created_at_first',\n",
       "       'created_at', 'days_old', 'number_of_bedrooms', 'number_of_bathrooms',\n",
       "       'm2', 'latitude', 'longitude'],\n",
       "      dtype='object')"
      ]
     },
     "execution_count": 7,
     "metadata": {},
     "output_type": "execute_result"
    }
   ],
   "source": [
    "df.columns"
   ]
  },
  {
   "cell_type": "markdown",
   "metadata": {},
   "source": [
    "As expected, the column we'll use to identify and remove outliers is the <b>price_usd</b>, which indicates the price of each property.\n",
    "\n",
    "The process we'll follow goes as follows:\n",
    "\n",
    "<ul>\n",
    "    <li>1. First we need to calculate the interquartile range for the <b>price_usd</b> column.</li>\n",
    "    <li>2. Then we'll proceed to multiplying the interquartile range (IQR) by 1.5 (constant).</li>\n",
    "    <li>3. Subsequently, we have to add 1.5 x (IQR) to the 3rd quartile. Any value greater than this can be considered an outlier.</li>\n",
    "    <li>4. Finally, we have to sbtract 1.5 x (IQR) from the first quartile. Any value smaller than this can be considered an outlier.</li>\n",
    "</ul>\n",
    "\n",
    "Before proceeding, let's evaluate the minimum and maximum values for the feature that we'd like to use to remove outliers. "
   ]
  },
  {
   "cell_type": "code",
   "execution_count": 47,
   "metadata": {},
   "outputs": [
    {
     "name": "stdout",
     "output_type": "stream",
     "text": [
      "Min price in USD : $ 682\n",
      "Max price in USD : $ 51948052\n",
      "Shape of the dataframe : (5222, 11)\n"
     ]
    }
   ],
   "source": [
    "#Print min & max price values and the shape of the dataframe\n",
    "print(\"Min price in USD : $\", df['price_usd'].min())\n",
    "print(\"Max price in USD : $\", df['price_usd'].max())\n",
    "print(\"Shape of the dataframe :\", df.shape)"
   ]
  },
  {
   "cell_type": "markdown",
   "metadata": {},
   "source": [
    "In order to remove the outliers, first we need to find the interquartile range (IQR), which is defined by the Q1 and Q3. We can easily access quartiles with the <b>\"describe( )\"</b> method. So let's build a function to indentify and remove any outliers. "
   ]
  },
  {
   "cell_type": "code",
   "execution_count": 37,
   "metadata": {},
   "outputs": [],
   "source": [
    "def remove_outliers(df, column):\n",
    "    \"This function takes in a dataframe and removes the outliers using the values of the specified column\"\n",
    "    #Use the describe() method to identify the statistics of interest\n",
    "    describe = df[column].describe()\n",
    "\n",
    "    #Create a dictionary for each of the values from the column of interest\n",
    "    describe_dict = {\"count\":0,\"mean\":1,\"std\":2,\"min\":3,\"25\":4,\"50\":5,\"75\":6,\"max\":7}\n",
    "\n",
    "    #Extract quartiles (Q1, Q3)\n",
    "    Q1 = describe[describe_dict['25']]\n",
    "    Q3 = describe[describe_dict['75']]\n",
    "\n",
    "    #Caculate IQR\n",
    "    IQR = Q3-Q1\n",
    "\n",
    "    #Define bounds\n",
    "    lb = Q1-1.5*IQR\n",
    "    ub = Q3+1.5*IQR\n",
    "    print(\"(IQR = {})A point outside of the following range can be considered an outlier: ({},{})\".format(IQR,lb,ub))\n",
    "\n",
    "    calc_df = df[(df[column] < lb) | (df[column] > ub)]\n",
    "    print(\"The number of outliers that will be removed out of {} observations are {}.\".format(df[column].size,len(calc_df[column])))\n",
    "\n",
    "    #remove the outliers from the dataframe\n",
    "    no_outliers = df[~df[column].isin(calc_df[column])]\n",
    "    return no_outliers"
   ]
  },
  {
   "cell_type": "markdown",
   "metadata": {},
   "source": [
    "Now that we have defined our function we can use it to remove the outliers of our dataframe."
   ]
  },
  {
   "cell_type": "code",
   "execution_count": 43,
   "metadata": {},
   "outputs": [
    {
     "name": "stdout",
     "output_type": "stream",
     "text": [
      "(IQR = 195000.0)A point outside of the following range can be considered an outlier: (-177500.0,602500.0)\n",
      "The number of outliers that will be removed out of 5222 observations are 412.\n",
      "Min price in USD : $ 682\n",
      "Max price in USD : $ 600000\n",
      "Number of Observations : (4810, 11)\n"
     ]
    }
   ],
   "source": [
    "#Use function to remove outliers\n",
    "new_df = remove_outliers(df, 'price_usd')\n",
    "\n",
    "#Print new min & max price values\n",
    "print(\"Min price in USD : $\", new_df['price_usd'].min())\n",
    "print(\"Max price in USD : $\", new_df['price_usd'].max())\n",
    "print(\"Number of Observations :\", new_df.shape)"
   ]
  },
  {
   "cell_type": "markdown",
   "metadata": {},
   "source": [
    "As we can see we still have houses that have an unrealistically low price, which weren't singled out with the IQR due to the distribution of our data (skewed). So let's set an arbitrary number to have a minimum price allowed, for this we'll be using our intution and consider the goal of our analysis."
   ]
  },
  {
   "cell_type": "code",
   "execution_count": 45,
   "metadata": {},
   "outputs": [
    {
     "data": {
      "text/plain": [
       "(4721, 11)"
      ]
     },
     "execution_count": 45,
     "metadata": {},
     "output_type": "execute_result"
    }
   ],
   "source": [
    "#Set a minimum sale price of $25,000\n",
    "new_df = new_df[new_df['price_usd'] > 25000]\n",
    "new_df.shape"
   ]
  },
  {
   "cell_type": "code",
   "execution_count": 46,
   "metadata": {},
   "outputs": [
    {
     "data": {
      "text/html": [
       "<div>\n",
       "<style scoped>\n",
       "    .dataframe tbody tr th:only-of-type {\n",
       "        vertical-align: middle;\n",
       "    }\n",
       "\n",
       "    .dataframe tbody tr th {\n",
       "        vertical-align: top;\n",
       "    }\n",
       "\n",
       "    .dataframe thead th {\n",
       "        text-align: right;\n",
       "    }\n",
       "</style>\n",
       "<table border=\"1\" class=\"dataframe\">\n",
       "  <thead>\n",
       "    <tr style=\"text-align: right;\">\n",
       "      <th></th>\n",
       "      <th>revision</th>\n",
       "      <th>price_usd</th>\n",
       "      <th>zona</th>\n",
       "      <th>created_at_first</th>\n",
       "      <th>created_at</th>\n",
       "      <th>days_old</th>\n",
       "      <th>number_of_bedrooms</th>\n",
       "      <th>number_of_bathrooms</th>\n",
       "      <th>m2</th>\n",
       "      <th>latitude</th>\n",
       "      <th>longitude</th>\n",
       "    </tr>\n",
       "  </thead>\n",
       "  <tbody>\n",
       "    <tr>\n",
       "      <th>0</th>\n",
       "      <td>7</td>\n",
       "      <td>350000</td>\n",
       "      <td>Zona 10</td>\n",
       "      <td>5/28/20</td>\n",
       "      <td>5/28/20</td>\n",
       "      <td>0.0</td>\n",
       "      <td>2.0</td>\n",
       "      <td>2.0</td>\n",
       "      <td>158.00</td>\n",
       "      <td>14.595</td>\n",
       "      <td>-90.504</td>\n",
       "    </tr>\n",
       "    <tr>\n",
       "      <th>1</th>\n",
       "      <td>4</td>\n",
       "      <td>103896</td>\n",
       "      <td>Zona 18</td>\n",
       "      <td>5/28/20</td>\n",
       "      <td>5/28/20</td>\n",
       "      <td>0.0</td>\n",
       "      <td>5.0</td>\n",
       "      <td>3.0</td>\n",
       "      <td>150.00</td>\n",
       "      <td>14.665</td>\n",
       "      <td>-90.471</td>\n",
       "    </tr>\n",
       "    <tr>\n",
       "      <th>2</th>\n",
       "      <td>6</td>\n",
       "      <td>84299</td>\n",
       "      <td>Zona 7</td>\n",
       "      <td>5/28/20</td>\n",
       "      <td>5/28/20</td>\n",
       "      <td>0.0</td>\n",
       "      <td>3.0</td>\n",
       "      <td>2.0</td>\n",
       "      <td>85.00</td>\n",
       "      <td>14.639</td>\n",
       "      <td>-90.560</td>\n",
       "    </tr>\n",
       "    <tr>\n",
       "      <th>3</th>\n",
       "      <td>9</td>\n",
       "      <td>90273</td>\n",
       "      <td>Zona 1</td>\n",
       "      <td>5/28/20</td>\n",
       "      <td>5/28/20</td>\n",
       "      <td>0.0</td>\n",
       "      <td>2.0</td>\n",
       "      <td>2.0</td>\n",
       "      <td>69.00</td>\n",
       "      <td>14.646</td>\n",
       "      <td>-90.503</td>\n",
       "    </tr>\n",
       "    <tr>\n",
       "      <th>5</th>\n",
       "      <td>15</td>\n",
       "      <td>280000</td>\n",
       "      <td>NaN</td>\n",
       "      <td>11/19/19</td>\n",
       "      <td>5/28/20</td>\n",
       "      <td>191.0</td>\n",
       "      <td>3.0</td>\n",
       "      <td>3.0</td>\n",
       "      <td>165.00</td>\n",
       "      <td>14.634</td>\n",
       "      <td>-90.506</td>\n",
       "    </tr>\n",
       "  </tbody>\n",
       "</table>\n",
       "</div>"
      ],
      "text/plain": [
       "   revision  price_usd     zona created_at_first created_at  days_old  \\\n",
       "0         7     350000  Zona 10          5/28/20    5/28/20       0.0   \n",
       "1         4     103896  Zona 18          5/28/20    5/28/20       0.0   \n",
       "2         6      84299   Zona 7          5/28/20    5/28/20       0.0   \n",
       "3         9      90273   Zona 1          5/28/20    5/28/20       0.0   \n",
       "5        15     280000      NaN         11/19/19    5/28/20     191.0   \n",
       "\n",
       "   number_of_bedrooms  number_of_bathrooms      m2  latitude  longitude  \n",
       "0                 2.0                  2.0  158.00    14.595    -90.504  \n",
       "1                 5.0                  3.0  150.00    14.665    -90.471  \n",
       "2                 3.0                  2.0   85.00    14.639    -90.560  \n",
       "3                 2.0                  2.0   69.00    14.646    -90.503  \n",
       "5                 3.0                  3.0  165.00    14.634    -90.506  "
      ]
     },
     "execution_count": 46,
     "metadata": {},
     "output_type": "execute_result"
    }
   ],
   "source": [
    "new_df.head()"
   ]
  },
  {
   "cell_type": "markdown",
   "metadata": {},
   "source": [
    "Finally, we can store the dataframe as a csv file to analyze later or in any other tool that can take flat files as input (Tableau, PowerBI, R, or another Python notebook)."
   ]
  },
  {
   "cell_type": "code",
   "execution_count": 49,
   "metadata": {},
   "outputs": [],
   "source": [
    "#Save file to CSV\n",
    "new_df.to_csv(r'/newfile.csv')"
   ]
  }
 ],
 "metadata": {
  "kernelspec": {
   "display_name": "Python 3",
   "language": "python",
   "name": "python3"
  },
  "language_info": {
   "codemirror_mode": {
    "name": "ipython",
    "version": 3
   },
   "file_extension": ".py",
   "mimetype": "text/x-python",
   "name": "python",
   "nbconvert_exporter": "python",
   "pygments_lexer": "ipython3",
   "version": "3.7.3"
  }
 },
 "nbformat": 4,
 "nbformat_minor": 4
}
